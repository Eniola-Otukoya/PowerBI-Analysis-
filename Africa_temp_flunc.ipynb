{
 "cells": [
  {
   "cell_type": "markdown",
   "id": "e7b6ca93-2d3e-4a28-afcf-26576e45278f",
   "metadata": {},
   "source": [
    "\n",
    "\"Exploring Temperature Fluctuations in Egypt, Tunisia, Angola, Cameroon, and Senegal (1980–2023)\"\n",
    "Objective\n",
    "\n",
    "The goal of this project is to analyze and visualize temperature trends and fluctuations across five African countries—Egypt, Tunisia, Angola, Cameroon, and Senegal—to identify patterns, seasonal variations, and possible climate change indicators.\n",
    "Dataset Source\n",
    "\n",
    "This dataset 'Climate Change in Africa' was provided by the 'U.S global change research program'\n",
    "\n",
    "Dataset Description : This dataset contains historical data about the daily min, max and average temperature fluctuation in 5 African countries (Egypt, Tunisia, Cameroon, Senegal, Angola) between 1980 and 2023.\n",
    "Tools and libraries\n",
    "\n",
    "    Jupyter noternook\n",
    "    Pandas\n",
    "    Matplotlib\n",
    "    Seaborn\n",
    "    plotly\n",
    "\n"
   ]
  }
 ],
 "metadata": {
  "kernelspec": {
   "display_name": "Python 3 (ipykernel)",
   "language": "python",
   "name": "python3"
  },
  "language_info": {
   "codemirror_mode": {
    "name": "ipython",
    "version": 3
   },
   "file_extension": ".py",
   "mimetype": "text/x-python",
   "name": "python",
   "nbconvert_exporter": "python",
   "pygments_lexer": "ipython3",
   "version": "3.12.7"
  }
 },
 "nbformat": 4,
 "nbformat_minor": 5
}
